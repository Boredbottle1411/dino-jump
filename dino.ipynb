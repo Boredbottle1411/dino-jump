{
 "cells": [
  {
   "cell_type": "code",
   "execution_count": 5,
   "id": "afc5b4b7",
   "metadata": {},
   "outputs": [
    {
     "name": "stdout",
     "output_type": "stream",
     "text": [
      "Requirement already satisfied: pyautogui in c:\\users\\student\\appdata\\local\\programs\\python\\python313\\lib\\site-packages (0.9.54)\n",
      "Requirement already satisfied: pillow in c:\\users\\student\\appdata\\local\\programs\\python\\python313\\lib\\site-packages (11.3.0)\n",
      "Requirement already satisfied: keyboard in c:\\users\\student\\appdata\\local\\programs\\python\\python313\\lib\\site-packages (0.13.5)\n",
      "Requirement already satisfied: pymsgbox in c:\\users\\student\\appdata\\local\\programs\\python\\python313\\lib\\site-packages (from pyautogui) (1.0.9)\n",
      "Requirement already satisfied: pytweening>=1.0.4 in c:\\users\\student\\appdata\\local\\programs\\python\\python313\\lib\\site-packages (from pyautogui) (1.2.0)\n",
      "Requirement already satisfied: pyscreeze>=0.1.21 in c:\\users\\student\\appdata\\local\\programs\\python\\python313\\lib\\site-packages (from pyautogui) (1.0.1)\n",
      "Requirement already satisfied: pygetwindow>=0.0.5 in c:\\users\\student\\appdata\\local\\programs\\python\\python313\\lib\\site-packages (from pyautogui) (0.0.9)\n",
      "Requirement already satisfied: mouseinfo in c:\\users\\student\\appdata\\local\\programs\\python\\python313\\lib\\site-packages (from pyautogui) (0.1.3)\n",
      "Requirement already satisfied: pyrect in c:\\users\\student\\appdata\\local\\programs\\python\\python313\\lib\\site-packages (from pygetwindow>=0.0.5->pyautogui) (0.2.0)\n",
      "Requirement already satisfied: pyperclip in c:\\users\\student\\appdata\\local\\programs\\python\\python313\\lib\\site-packages (from mouseinfo->pyautogui) (1.9.0)\n"
     ]
    },
    {
     "name": "stderr",
     "output_type": "stream",
     "text": [
      "\n",
      "[notice] A new release of pip is available: 24.3.1 -> 25.1.1\n",
      "[notice] To update, run: python.exe -m pip install --upgrade pip\n"
     ]
    }
   ],
   "source": [
    "#Install the required libraries\n",
    "\n",
    "!pip install pyautogui pillow keyboard"
   ]
  },
  {
   "cell_type": "markdown",
   "id": "5731fe25",
   "metadata": {},
   "source": [
    "# 1. Import the required library"
   ]
  },
  {
   "cell_type": "code",
   "execution_count": 6,
   "id": "96e9aa66",
   "metadata": {},
   "outputs": [
    {
     "ename": "ModuleNotFoundError",
     "evalue": "No module named 'pyautogui'",
     "output_type": "error",
     "traceback": [
      "\u001b[31m---------------------------------------------------------------------------\u001b[39m",
      "\u001b[31mModuleNotFoundError\u001b[39m                       Traceback (most recent call last)",
      "\u001b[36mCell\u001b[39m\u001b[36m \u001b[39m\u001b[32mIn[6]\u001b[39m\u001b[32m, line 3\u001b[39m\n\u001b[32m      1\u001b[39m \u001b[38;5;66;03m# import libraries\u001b[39;00m\n\u001b[32m----> \u001b[39m\u001b[32m3\u001b[39m \u001b[38;5;28;01mimport\u001b[39;00m\u001b[38;5;250m \u001b[39m\u001b[34;01mpyautogui\u001b[39;00m\n\u001b[32m      4\u001b[39m \u001b[38;5;28;01mimport\u001b[39;00m\u001b[38;5;250m \u001b[39m\u001b[34;01mtime\u001b[39;00m\n\u001b[32m      5\u001b[39m \u001b[38;5;28;01mfrom\u001b[39;00m\u001b[38;5;250m \u001b[39m\u001b[34;01mP1L\u001b[39;00m\u001b[38;5;250m \u001b[39m\u001b[38;5;28;01mimport\u001b[39;00m ImageGrab\n",
      "\u001b[31mModuleNotFoundError\u001b[39m: No module named 'pyautogui'"
     ]
    }
   ],
   "source": [
    "# import libraries\n",
    "\n",
    "import pyautogui\n",
    "import time\n",
    "from P1L import ImageGrab\n",
    "from IPython.display import display\n",
    "import keyboard"
   ]
  },
  {
   "cell_type": "markdown",
   "id": "9e56ae6c",
   "metadata": {},
   "source": [
    "# 2. Detect the screen position"
   ]
  },
  {
   "cell_type": "code",
   "execution_count": null,
   "id": "4eecfdce",
   "metadata": {},
   "outputs": [],
   "source": [
    "#detect the screen position (left, top, right, bottom)\n",
    "\n",
    "while not keyboard.is_pressed('q'):\n",
    "    time.sleep(1)\n",
    "    print(pyautogui.position())"
   ]
  },
  {
   "cell_type": "markdown",
   "id": "67d85c5b",
   "metadata": {},
   "source": [
    "# 3. Verify the Detection Region"
   ]
  },
  {
   "cell_type": "code",
   "execution_count": null,
   "id": "2b24992d",
   "metadata": {},
   "outputs": [],
   "source": [
    "#Input the left, top, right, bottom values into the box\n",
    "\n",
    "box = (195,400,266,449) # Update the values based on the above analysis\n",
    "\n",
    "#capture a jpg for verification\n",
    "\n",
    "img = ImageGrab.grab(box)\n",
    "gray = img.convert('L')\n",
    "pixels = gray.getcolors()\n",
    "display(img)"
   ]
  },
  {
   "cell_type": "markdown",
   "id": "9df7409d",
   "metadata": {},
   "source": [
    "# 4. Define the Jump Function"
   ]
  },
  {
   "cell_type": "code",
   "execution_count": null,
   "id": "e11b1dd7",
   "metadata": {},
   "outputs": [],
   "source": [
    "#Define the jump function\n",
    "def jump():\n",
    "    pyautogui.press(\"space\")\n"
   ]
  },
  {
   "cell_type": "markdown",
   "id": "1150cc44",
   "metadata": {},
   "source": [
    "# 5. Detect the obstacle"
   ]
  },
  {
   "cell_type": "code",
   "execution_count": null,
   "id": "7a1e4363",
   "metadata": {},
   "outputs": [],
   "source": [
    "#Define the obstacle detection function\n",
    "def detect_obstacle(box):\n",
    "    img = ImageGrab.grab(box)\n",
    "    gray = img.convert('L')\n",
    "    pixels = gray.getcolours()\n",
    "    for pixel in pixels:\n",
    "        if 150 < pixel[1] < 220:\n",
    "            return True\n",
    "    return False"
   ]
  },
  {
   "cell_type": "markdown",
   "id": "3da2f3e3",
   "metadata": {},
   "source": [
    "# 6. Main Program - Detect Obstacble and Jump"
   ]
  },
  {
   "cell_type": "code",
   "execution_count": null,
   "id": "3b11674c",
   "metadata": {},
   "outputs": [],
   "source": [
    "# Main function, Once detect the obstacle then perform jump\n",
    "# Countdown 3s to give time to switch to game window\n",
    "print(f\"counting down\\n\")\n",
    "for i in reversed(range(3)):\n",
    "    print(f\"{i} ...\")\n",
    "    time.sleep(1)\n",
    "print(\"Go!\")\n",
    "\n",
    "try:\n",
    "    while not keyboard.is_pressed('q'):\n",
    "        if detect_obstacle(box):\n",
    "            jump()\n",
    "            time.sleep(0.1)\n",
    "        time.sleep(0.01)\n",
    "finally:\n",
    "    print(\"Stopped\")\n"
   ]
  }
 ],
 "metadata": {
  "kernelspec": {
   "display_name": ".venv",
   "language": "python",
   "name": "python3"
  },
  "language_info": {
   "codemirror_mode": {
    "name": "ipython",
    "version": 3
   },
   "file_extension": ".py",
   "mimetype": "text/x-python",
   "name": "python",
   "nbconvert_exporter": "python",
   "pygments_lexer": "ipython3",
   "version": "3.13.1"
  }
 },
 "nbformat": 4,
 "nbformat_minor": 5
}
